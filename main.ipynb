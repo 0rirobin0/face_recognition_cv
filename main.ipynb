{
 "cells": [
  {
   "cell_type": "code",
   "execution_count": 1,
   "id": "3afabd2d",
   "metadata": {},
   "outputs": [],
   "source": [
    "import cv2\n",
    "import os\n",
    "import numpy as np\n",
    "from PIL import Image"
   ]
  },
  {
   "cell_type": "code",
   "execution_count": 3,
   "id": "15cf865d",
   "metadata": {},
   "outputs": [],
   "source": [
    "def create_user(f_id,name):\n",
    "    cam = cv2.VideoCapture(0)\n",
    "    cam.set(3, 640)  # Set video width\n",
    "    cam.set(4, 480)  # Set video height\n",
    "    faces = cv2.CascadeClassifier(cv2.data.haarcascades + 'haarcascade_frontalface_default.xml')\n",
    "    user_dir = f\"dataset/user\"\n",
    "    if not os.path.exists(user_dir):\n",
    "        os.makedirs(user_dir)\n",
    "    sample_count = 0    \n",
    "    while True:\n",
    "        ret, frame = cam.read()\n",
    "        if not ret:\n",
    "            print(\"Failed to capture image\")\n",
    "            break\n",
    "        \n",
    "        gray = cv2.cvtColor(frame, cv2.COLOR_BGR2GRAY)\n",
    "        faces_detected = faces.detectMultiScale(gray, scaleFactor=1.3, minNeighbors=5)\n",
    "        for (x, y, w, h) in faces_detected:\n",
    "            sample_count += 1\n",
    "            cv2.rectangle(frame, (x, y), (x + w, y + h), (255, 0, 0), 2)\n",
    "            cv2.imwrite(f\"{user_dir}/{name}.{f_id}.{sample_count}.jpg\", gray[y:y + h, x:x + w])\n",
    "            cv2.imshow('Face Capture', frame)\n",
    "\n",
    "\n",
    "\n",
    "        if cv2.waitKey(100) & 0xFF == ord('q') or sample_count >= 80:\n",
    "            break\n",
    "    cam.release()\n",
    "    cv2.destroyAllWindows()\n"
   ]
  },
  {
   "cell_type": "code",
   "execution_count": 17,
   "id": "cabbc604",
   "metadata": {},
   "outputs": [
    {
     "ename": "KeyboardInterrupt",
     "evalue": "",
     "output_type": "error",
     "traceback": [
      "\u001b[31m---------------------------------------------------------------------------\u001b[39m",
      "\u001b[31mKeyboardInterrupt\u001b[39m                         Traceback (most recent call last)",
      "\u001b[36mCell\u001b[39m\u001b[36m \u001b[39m\u001b[32mIn[17]\u001b[39m\u001b[32m, line 1\u001b[39m\n\u001b[32m----> \u001b[39m\u001b[32m1\u001b[39m \u001b[43mcreate_user\u001b[49m\u001b[43m(\u001b[49m\u001b[32;43m1\u001b[39;49m\u001b[43m,\u001b[49m\u001b[43m \u001b[49m\u001b[33;43m\"\u001b[39;49m\u001b[33;43mRobin\u001b[39;49m\u001b[33;43m\"\u001b[39;49m\u001b[43m)\u001b[49m\n",
      "\u001b[36mCell\u001b[39m\u001b[36m \u001b[39m\u001b[32mIn[3]\u001b[39m\u001b[32m, line 26\u001b[39m, in \u001b[36mcreate_user\u001b[39m\u001b[34m(f_id, name)\u001b[39m\n\u001b[32m     21\u001b[39m         cv2.imwrite(\u001b[33mf\u001b[39m\u001b[33m\"\u001b[39m\u001b[38;5;132;01m{\u001b[39;00muser_dir\u001b[38;5;132;01m}\u001b[39;00m\u001b[33m/\u001b[39m\u001b[38;5;132;01m{\u001b[39;00mname\u001b[38;5;132;01m}\u001b[39;00m\u001b[33m.\u001b[39m\u001b[38;5;132;01m{\u001b[39;00mf_id\u001b[38;5;132;01m}\u001b[39;00m\u001b[33m.\u001b[39m\u001b[38;5;132;01m{\u001b[39;00msample_count\u001b[38;5;132;01m}\u001b[39;00m\u001b[33m.jpg\u001b[39m\u001b[33m\"\u001b[39m, gray[y:y + h, x:x + w])\n\u001b[32m     22\u001b[39m         cv2.imshow(\u001b[33m'\u001b[39m\u001b[33mFace Capture\u001b[39m\u001b[33m'\u001b[39m, frame)\n\u001b[32m---> \u001b[39m\u001b[32m26\u001b[39m     \u001b[38;5;28;01mif\u001b[39;00m \u001b[43mcv2\u001b[49m\u001b[43m.\u001b[49m\u001b[43mwaitKey\u001b[49m\u001b[43m(\u001b[49m\u001b[32;43m100\u001b[39;49m\u001b[43m)\u001b[49m & \u001b[32m0xFF\u001b[39m == \u001b[38;5;28mord\u001b[39m(\u001b[33m'\u001b[39m\u001b[33mq\u001b[39m\u001b[33m'\u001b[39m) \u001b[38;5;129;01mor\u001b[39;00m sample_count >= \u001b[32m80\u001b[39m:\n\u001b[32m     27\u001b[39m         \u001b[38;5;28;01mbreak\u001b[39;00m\n\u001b[32m     28\u001b[39m cam.release()\n",
      "\u001b[31mKeyboardInterrupt\u001b[39m: "
     ]
    }
   ],
   "source": [
    "create_user(1, \"Robin\")"
   ]
  },
  {
   "cell_type": "code",
   "execution_count": 23,
   "id": "7ae04203",
   "metadata": {},
   "outputs": [],
   "source": [
    "create_user(3, \"arif\")"
   ]
  },
  {
   "cell_type": "markdown",
   "id": "ff974cee",
   "metadata": {},
   "source": [
    "Trainning Face Recognizer"
   ]
  },
  {
   "cell_type": "code",
   "execution_count": 24,
   "id": "6e90366a",
   "metadata": {},
   "outputs": [],
   "source": [
    "def train_face_recognizer():\n",
    "    recognizer = cv2.face.LBPHFaceRecognizer_create()\n",
    "    faces = []\n",
    "    labels = []\n",
    "    user_dir = \"dataset/user\"\n",
    "\n",
    "    for img_name in os.listdir(user_dir):\n",
    "        img_path = os.path.join(user_dir, img_name)\n",
    "\n",
    "      \n",
    "        if not img_name.lower().endswith(('.png', '.jpg', '.jpeg')):\n",
    "            continue\n",
    "\n",
    "        # Load and convert image to grayscale\n",
    "        img = Image.open(img_path).convert('L')\n",
    "        img_np = np.array(img, 'uint8')\n",
    "\n",
    "        try:\n",
    "            label = int(img_name.split('.')[1])\n",
    "        except (IndexError, ValueError):\n",
    "            print(f\"Skipping invalid file name: {img_name}\")\n",
    "            continue\n",
    "\n",
    "        faces.append(img_np)\n",
    "        labels.append(label)\n",
    "\n",
    "    recognizer.train(faces, np.array(labels))\n",
    "    recognizer.save('face_recognizer.yml')\n",
    "    print(\"Training complete and model saved as 'face_recognizer.yml'\")\n",
    "    print(f\"Total faces trained: {len(np.unique(labels))}\")"
   ]
  },
  {
   "cell_type": "code",
   "execution_count": 25,
   "id": "f17fb333",
   "metadata": {},
   "outputs": [
    {
     "name": "stdout",
     "output_type": "stream",
     "text": [
      "Training complete and model saved as 'face_recognizer.yml'\n",
      "Total faces trained: 1\n"
     ]
    }
   ],
   "source": [
    "train_face_recognizer()"
   ]
  },
  {
   "cell_type": "code",
   "execution_count": 21,
   "id": "a03a21d0",
   "metadata": {},
   "outputs": [],
   "source": [
    "def recognize_faces():\n",
    "    recognizer = cv2.face.LBPHFaceRecognizer_create()\n",
    "    recognizer.read('face_recognizer.yml')\n",
    "    cam = cv2.VideoCapture(0)\n",
    "    faces = cv2.CascadeClassifier(cv2.data.haarcascades + 'haarcascade_frontalface_default.xml')\n",
    "\n",
    "    while True:\n",
    "        ret, frame = cam.read()\n",
    "        if not ret:\n",
    "            print(\"Failed to capture image\")\n",
    "            break\n",
    "\n",
    "        gray = cv2.cvtColor(frame, cv2.COLOR_BGR2GRAY)\n",
    "        faces_detected = faces.detectMultiScale(gray, scaleFactor=1.3, minNeighbors=5)\n",
    "\n",
    "        for (x, y, w, h) in faces_detected:\n",
    "            face_roi = gray[y:y + h, x:x + w]\n",
    "            label, confidence = recognizer.predict(face_roi)\n",
    "            if confidence < 100:\n",
    "                if label == 1:\n",
    "                    name = \"Robin\"\n",
    "                elif label == 2:\n",
    "                    name = \"Sifat\"\n",
    "                else:\n",
    "                    name = f\"User {label}\"\n",
    "            else:\n",
    "                name = \"Unknown\"\n",
    "            cv2.rectangle(frame, (x, y), (x + w, y + h), (0, 0, 255), 2)\n",
    "            cv2.putText(frame, name, (x + 5, y - 5), cv2.FONT_HERSHEY_SIMPLEX, 0.7, (255, 0, 0), 2)\n",
    "\n",
    "        cv2.imshow('Face Recognition', frame)\n",
    "\n",
    "        if cv2.waitKey(1) & 0xFF == ord('q'):\n",
    "            break\n",
    "\n",
    "    cam.release()\n",
    "    cv2.destroyAllWindows()"
   ]
  },
  {
   "cell_type": "code",
   "execution_count": null,
   "id": "092c2f21",
   "metadata": {},
   "outputs": [],
   "source": []
  },
  {
   "cell_type": "code",
   "execution_count": 26,
   "id": "ba8ebb85",
   "metadata": {},
   "outputs": [],
   "source": [
    "recognize_faces()"
   ]
  },
  {
   "cell_type": "code",
   "execution_count": null,
   "id": "0402bbd5",
   "metadata": {},
   "outputs": [],
   "source": []
  }
 ],
 "metadata": {
  "kernelspec": {
   "display_name": "Python 3",
   "language": "python",
   "name": "python3"
  },
  "language_info": {
   "codemirror_mode": {
    "name": "ipython",
    "version": 3
   },
   "file_extension": ".py",
   "mimetype": "text/x-python",
   "name": "python",
   "nbconvert_exporter": "python",
   "pygments_lexer": "ipython3",
   "version": "3.13.5"
  }
 },
 "nbformat": 4,
 "nbformat_minor": 5
}
